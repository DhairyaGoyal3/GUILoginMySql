{
 "cells": [
  {
   "cell_type": "code",
   "execution_count": 8,
   "id": "7ed6db78",
   "metadata": {},
   "outputs": [
    {
     "name": "stdout",
     "output_type": "stream",
     "text": [
      "('Aman',)\n"
     ]
    }
   ],
   "source": [
    "from tkinter import *\n",
    "import pymysql\n",
    "\n",
    "def conn():\n",
    "    id=int(lide.get())\n",
    "    p=int(lpe.get())\n",
    "    conobj=pymysql.connect(host='localhost',port=3306,user='root',password='root',database='world')\n",
    "    curobj=conobj.cursor()\n",
    "    curobj.execute(f\"Select name from login where id={id} and password={p}\")\n",
    "    r=curobj.fetchall()\n",
    "    print(r)\n",
    "    \n",
    "\n",
    "win=Tk()\n",
    "win.title(\"Login\")\n",
    "win.geometry(\"600x300\")\n",
    "win.configure(bg=\"black\")\n",
    "lt=Label(win,text=\"Welcome to Zara\",font=('arial',20,'bold','underline'),bg='pink',fg='blue')\n",
    "lt.place(x=120,y=20)\n",
    "\n",
    "lidl=Label(win,text=\"Login Id: \",font=('Arial',20))\n",
    "lide=Entry(win,text=\"Enter Login Id\",font=('Arial',20))\n",
    "lpl=Label(win,text=\"Password: \",font=('Arial',20))\n",
    "lpe=Entry(win,text=\"Enter password\",font=('Arial',20))\n",
    "b=Button(win,text=\"Login\",font=('Arial',20),command=lambda:conn())\n",
    "lidl.place(x=10,y=80)\n",
    "lide.place(x=150,y=80)\n",
    "lpl.place(x=10,y=150)\n",
    "lpe.place(x=150,y=150)\n",
    "b.place(x=120,y=210)\n",
    "mainloop()"
   ]
  },
  {
   "cell_type": "code",
   "execution_count": null,
   "id": "2426a61a",
   "metadata": {},
   "outputs": [],
   "source": []
  }
 ],
 "metadata": {
  "kernelspec": {
   "display_name": "Python 3 (ipykernel)",
   "language": "python",
   "name": "python3"
  },
  "language_info": {
   "codemirror_mode": {
    "name": "ipython",
    "version": 3
   },
   "file_extension": ".py",
   "mimetype": "text/x-python",
   "name": "python",
   "nbconvert_exporter": "python",
   "pygments_lexer": "ipython3",
   "version": "3.10.9"
  }
 },
 "nbformat": 4,
 "nbformat_minor": 5
}
